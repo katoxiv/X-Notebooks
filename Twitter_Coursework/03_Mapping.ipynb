{
 "cells": [
  {
   "cell_type": "code",
   "execution_count": 1,
   "metadata": {},
   "outputs": [
    {
     "name": "stdout",
     "output_type": "stream",
     "text": [
      "CPU times: total: 1.52 s\n",
      "Wall time: 7.58 s\n"
     ]
    }
   ],
   "source": [
    "%%time\n",
    "# Imports\n",
    "from utils import *"
   ]
  },
  {
   "cell_type": "markdown",
   "metadata": {},
   "source": [
    "File-Reading"
   ]
  },
  {
   "cell_type": "code",
   "execution_count": 2,
   "metadata": {},
   "outputs": [
    {
     "name": "stdout",
     "output_type": "stream",
     "text": [
      "CPU times: total: 23.5 s\n",
      "Wall time: 24.6 s\n"
     ]
    }
   ],
   "source": [
    "%%time\n",
    "\n",
    "# Get start time\n",
    "start = time.perf_counter()\n",
    "\n",
    "# File-Reading\n",
    "path = os.path.join(os.getcwd() , out_file) # from utils\n",
    "user = []\n",
    "ts = []\n",
    "ca = []\n",
    "tweets = []\n",
    "mentions = []\n",
    "coord = []\n",
    "country = []\n",
    "\n",
    "with open(path , 'r' , encoding='utf-8') as in_file:\n",
    "    csv_reader = csv.reader(in_file , delimiter = \"|\")\n",
    "    for line in csv_reader:\n",
    "        user.append(line[0])\n",
    "        ts.append(line[1])\n",
    "        ca.append(line[2])\n",
    "        tweets.append(line[3])\n",
    "        mentions.append(line[4])\n",
    "        coord.append(line[5])\n",
    "        country.append(line[6])"
   ]
  },
  {
   "cell_type": "markdown",
   "metadata": {},
   "source": [
    "# **03 - MAPPING**\n",
    "### **QUESTION - 1**"
   ]
  },
  {
   "cell_type": "code",
   "execution_count": 3,
   "metadata": {},
   "outputs": [
    {
     "name": "stdout",
     "output_type": "stream",
     "text": [
      "CPU times: total: 10.9 s\n",
      "Wall time: 11 s\n"
     ]
    },
    {
     "data": {
      "text/plain": [
       "701961"
      ]
     },
     "execution_count": 3,
     "metadata": {},
     "output_type": "execute_result"
    }
   ],
   "source": [
    "%%time\n",
    "\n",
    "# Use tweets and coordinates to create a mapping dataframe\n",
    "mapping_df = pd.DataFrame(\n",
    "    list(zip(tweets , coord)) , columns = ['tweet_id' , 'coordinates']\n",
    ")\n",
    "\n",
    "# mapping_df = from_pandas(mapping_df , npartitions = 4)\n",
    "\n",
    "# Removing unnecessary rows\n",
    "mapping_df = mapping_df[\n",
    "    (mapping_df['tweet_id']!=\"None\")&\n",
    "    (mapping_df['coordinates']!=\"None\")\n",
    "].drop_duplicates()\n",
    "\n",
    "len(mapping_df)"
   ]
  },
  {
   "cell_type": "code",
   "execution_count": 4,
   "metadata": {},
   "outputs": [
    {
     "name": "stdout",
     "output_type": "stream",
     "text": [
      "CPU times: total: 10.8 s\n",
      "Wall time: 10.9 s\n"
     ]
    }
   ],
   "source": [
    "%%time\n",
    "# Long and Lat - clean up\n",
    "mapping_df[['long' , 'lat']] = mapping_df['coordinates'].str.split(',' , expand = True)\n",
    "\n",
    "# Long\n",
    "mapping_df['long'] = mapping_df['long'].apply(lambda x : x[1:])#.astype('float')\n",
    "mapping_df['long'] = mapping_df['long'].astype('float')\n",
    "\n",
    "# Lat\n",
    "mapping_df['lat'] = mapping_df['lat'].apply(lambda x : x[:-1])#.astype('float')\n",
    "mapping_df['lat'] = mapping_df['lat'].astype('float')\n",
    "\n",
    "# mapping_df.drop('coordinates' , inplace = True , axis = 1)"
   ]
  },
  {
   "cell_type": "code",
   "execution_count": null,
   "metadata": {},
   "outputs": [],
   "source": [
    "geometry = [Point(xy) for xy in zip(mapping_df['long'], mapping_df['lat'])]\n",
    "gdf = GeoDataFrame(mapping_df, geometry=geometry)"
   ]
  },
  {
   "cell_type": "code",
   "execution_count": null,
   "metadata": {},
   "outputs": [],
   "source": [
    "gdf.plot()"
   ]
  }
 ],
 "metadata": {
  "kernelspec": {
   "display_name": "Python 3.10.7 64-bit",
   "language": "python",
   "name": "python3"
  },
  "language_info": {
   "codemirror_mode": {
    "name": "ipython",
    "version": 3
   },
   "file_extension": ".py",
   "mimetype": "text/x-python",
   "name": "python",
   "nbconvert_exporter": "python",
   "pygments_lexer": "ipython3",
   "version": "3.10.7"
  },
  "orig_nbformat": 4,
  "vscode": {
   "interpreter": {
    "hash": "719571bc65a74e1d688dce095ec38766212055f912c80ea1932d85d313f79f3e"
   }
  }
 },
 "nbformat": 4,
 "nbformat_minor": 2
}
